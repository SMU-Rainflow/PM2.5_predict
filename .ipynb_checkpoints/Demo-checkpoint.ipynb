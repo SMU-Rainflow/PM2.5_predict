{
 "cells": [
  {
   "cell_type": "code",
   "execution_count": 7,
   "metadata": {},
   "outputs": [],
   "source": [
    "import pandas as pd\n",
    "import tensorflow as tf\n",
    "import keras as k\n",
    "import sklearn\n",
    "from xgboost.sklearn import XGBRegressor as xgbr\n",
    "from sklearn.metrics import mean_absolute_error as MSE"
   ]
  },
  {
   "cell_type": "code",
   "execution_count": 58,
   "metadata": {},
   "outputs": [],
   "source": [
    "file =pd.read_csv(\"./PRSA_data_2010.1.1-2014.12.31.csv\")"
   ]
  },
  {
   "cell_type": "code",
   "execution_count": 59,
   "metadata": {},
   "outputs": [],
   "source": [
    "test=file[35064:] #2014年的数据\n",
    "train=file[:35064] #2014年以前的数据\n",
    "train=train.dropna()\n",
    "test=test.dropna()\n",
    "train=pd.get_dummies(train)\n",
    "test=pd.get_dummies(test)"
   ]
  },
  {
   "cell_type": "code",
   "execution_count": 60,
   "metadata": {},
   "outputs": [
    {
     "name": "stderr",
     "output_type": "stream",
     "text": [
      "c:\\users\\wx\\appdata\\local\\programs\\python\\python36\\lib\\site-packages\\xgboost\\core.py:587: FutureWarning: Series.base is deprecated and will be removed in a future version\n",
      "  if getattr(data, 'base', None) is not None and \\\n",
      "c:\\users\\wx\\appdata\\local\\programs\\python\\python36\\lib\\site-packages\\xgboost\\core.py:588: FutureWarning: Series.base is deprecated and will be removed in a future version\n",
      "  data.base is not None and isinstance(data, np.ndarray) \\\n"
     ]
    },
    {
     "name": "stdout",
     "output_type": "stream",
     "text": [
      "score: 0.4924407749140013\n",
      "MSE: 44.336295679371695\n",
      "ymean: 97.78000934142923\n"
     ]
    }
   ],
   "source": [
    "#xgb1\n",
    "ytrain=train[\"pm2.5\"]\n",
    "xtrain=train[['year', 'month', 'day', 'hour', 'DEWP', 'TEMP', 'PRES',\n",
    "       'Iws', 'Is', 'Ir', 'cbwd_NE', 'cbwd_NW', 'cbwd_SE', 'cbwd_cv']]\n",
    "ytest=test[\"pm2.5\"]\n",
    "xtest=test[['year', 'month', 'day', 'hour', 'DEWP', 'TEMP', 'PRES',\n",
    "       'Iws', 'Is', 'Ir', 'cbwd_NE', 'cbwd_NW', 'cbwd_SE', 'cbwd_cv']]\n",
    "model = xgbr(max_depth=8, learning_rate=0.1, n_estimators=200, silent=True, objective='reg:gamma')\n",
    "model.fit(xtrain,ytrain)\n",
    "print(\"score:\",model.score(xtest,ytest))\n",
    "print(\"MSE:\",MSE(ytest,model.predict(xtest)))\n",
    "print(\"ymean:\",ytest.mean())"
   ]
  },
  {
   "cell_type": "code",
   "execution_count": 61,
   "metadata": {},
   "outputs": [
    {
     "name": "stderr",
     "output_type": "stream",
     "text": [
      "c:\\users\\wx\\appdata\\local\\programs\\python\\python36\\lib\\site-packages\\xgboost\\core.py:587: FutureWarning: Series.base is deprecated and will be removed in a future version\n",
      "  if getattr(data, 'base', None) is not None and \\\n",
      "c:\\users\\wx\\appdata\\local\\programs\\python\\python36\\lib\\site-packages\\xgboost\\core.py:588: FutureWarning: Series.base is deprecated and will be removed in a future version\n",
      "  data.base is not None and isinstance(data, np.ndarray) \\\n"
     ]
    },
    {
     "name": "stdout",
     "output_type": "stream",
     "text": [
      "score: 0.9478783492931602\n",
      "MSE: 11.698137676726986\n",
      "ymean: 97.78000934142923\n"
     ]
    }
   ],
   "source": [
    "#xgb2\n",
    "ytrain=train[\"pm2.5\"]\n",
    "xtrain=train[['year', 'month', 'day', 'hour', 'DEWP', 'TEMP', 'PRES',\n",
    "       'Iws', 'Is', 'Ir', 'cbwd_NE', 'cbwd_NW', 'cbwd_SE', 'cbwd_cv',\"pm2.5_1ago\",\"pm2.5_2ago\",\"pm2.5_3ago\"]]\n",
    "ytest=test[\"pm2.5\"]\n",
    "xtest=test[['year', 'month', 'day', 'hour', 'DEWP', 'TEMP', 'PRES',\n",
    "       'Iws', 'Is', 'Ir', 'cbwd_NE', 'cbwd_NW', 'cbwd_SE', 'cbwd_cv',\"pm2.5_1ago\",\"pm2.5_2ago\",\"pm2.5_3ago\"]]\n",
    "model = xgbr(max_depth=8, learning_rate=0.1, n_estimators=200, silent=True, objective='reg:gamma')\n",
    "model.fit(xtrain,ytrain)\n",
    "print(\"score:\",model.score(xtest,ytest))\n",
    "print(\"MSE:\",MSE(ytest,model.predict(xtest)))\n",
    "print(\"ymean:\",ytest.mean())"
   ]
  },
  {
   "cell_type": "code",
   "execution_count": 62,
   "metadata": {},
   "outputs": [],
   "source": [
    "#lstm\n",
    "# design network\n",
    "model = Sequential()\n",
    "model.add(LSTM(50, input_shape=(train_X.shape[1], train_X.shape[2])))\n",
    "model.add(Dense(1))\n",
    "model.compile(loss='mae', optimizer='adam')\n",
    "# fit network\n",
    "history = model.fit(train_X, train_y, epochs=50, batch_size=72, validation_data=(test_X, test_y), verbose=2, shuffle=False)\n",
    "# plot history\n",
    "pyplot.plot(history.history['loss'], label='train')\n",
    "pyplot.plot(history.history['val_loss'], label='test')\n",
    "pyplot.legend()\n",
    "pyplot.show()\n"
   ]
  },
  {
   "cell_type": "code",
   "execution_count": 50,
   "metadata": {},
   "outputs": [
    {
     "name": "stdout",
     "output_type": "stream",
     "text": [
      "score: 0.4893660227814025\n",
      "MSE: 44.423383793645336\n"
     ]
    }
   ],
   "source": [
    "#knn"
   ]
  },
  {
   "cell_type": "code",
   "execution_count": 51,
   "metadata": {},
   "outputs": [
    {
     "data": {
      "text/plain": [
       "97.73455721048377"
      ]
     },
     "execution_count": 51,
     "metadata": {},
     "output_type": "execute_result"
    }
   ],
   "source": [
    "#svm"
   ]
  },
  {
   "cell_type": "code",
   "execution_count": null,
   "metadata": {},
   "outputs": [],
   "source": [
    "#训练集、测试集损失函数变化曲线\n",
    "#训练集、测试集评估指标输出\n",
    "#测试集结果与真实值对比曲线图\n",
    "#LSTM 模型超参数"
   ]
  }
 ],
 "metadata": {
  "kernelspec": {
   "display_name": "Python 3",
   "language": "python",
   "name": "python3"
  }
 },
 "nbformat": 4,
 "nbformat_minor": 2
}
